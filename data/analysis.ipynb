{
 "cells": [
  {
   "cell_type": "markdown",
   "metadata": {},
   "source": [
    "# **Comparing the best Portfolio of Q4 2024 on Q1 2025**\n",
    "\n",
    "Let's see if the portfolio with the best sharpe ratio of our simulations in Q4 2024 is still the best in Q1 2025.\n",
    "\n",
    "All data was generated with the `fetch_data.py` script, which fetches the data from Yahoo Finance and saves it in a CSV file. The data is then loaded into a pandas DataFrame and used to create the portfolio."
   ]
  },
  {
   "cell_type": "code",
   "execution_count": 1,
   "metadata": {},
   "outputs": [],
   "source": [
    "import pandas as pd\n",
    "import numpy as np\n",
    "import os\n",
    "import matplotlib.pyplot as plt\n",
    "import seaborn as sns"
   ]
  },
  {
   "cell_type": "markdown",
   "metadata": {},
   "source": [
    "# **Loading the best Sharpe Ratio Portfolio**"
   ]
  },
  {
   "cell_type": "code",
   "execution_count": 2,
   "metadata": {},
   "outputs": [
    {
     "name": "stderr",
     "output_type": "stream",
     "text": [
      "/tmp/ipykernel_472712/3429224788.py:11: FutureWarning: The behavior of DataFrame concatenation with empty or all-NA entries is deprecated. In a future version, this will no longer exclude empty or all-NA columns when determining the result dtypes. To retain the old behavior, exclude the relevant entries before the concat operation.\n",
      "  df = pd.concat([df, temp_df], ignore_index=True)\n"
     ]
    }
   ],
   "source": [
    "# Read all files that start with \"output\" in the current directory and create a dataframe\n",
    "columns = [f'T{i}' for i in range (1, 26)] + [f'W{i}' for i in range (1, 26)] + ['Sharpe']\n",
    "\n",
    "df = pd.DataFrame(columns=columns)\n",
    "\n",
    "for file in os.listdir('.'):\n",
    "    if file.startswith('output'):\n",
    "        # Read the file and append it to the dataframe\n",
    "        temp_df = pd.read_csv(file, sep=',')\n",
    "        temp_df.columns = columns\n",
    "        df = pd.concat([df, temp_df], ignore_index=True)"
   ]
  },
  {
   "cell_type": "code",
   "execution_count": 10,
   "metadata": {},
   "outputs": [],
   "source": [
    "# Find the best Sharpe ratio and get the row\n",
    "best_sharpe_row = df.loc[df['Sharpe'].idxmax()]\n",
    "\n",
    "# Extract the tickers\n",
    "tickers = best_sharpe_row[:25].values\n",
    "\n",
    "# Extract the weights\n",
    "weights = best_sharpe_row[25:50].values"
   ]
  },
  {
   "cell_type": "code",
   "execution_count": 11,
   "metadata": {},
   "outputs": [
    {
     "data": {
      "text/plain": [
       "(array(['WMT', 'V', 'UNH', 'TRV', 'PG', 'NVDA', 'NKE', 'MSFT', 'MRK',\n",
       "        'MCD', 'JPM', 'JNJ', 'IBM', 'HON', 'HD', 'GS', 'DIS', 'CVX',\n",
       "        'CSCO', 'CRM', 'CAT', 'BA', 'AXP', 'AMZN', 'AAPL'], dtype=object),\n",
       " array([np.float64(0.0974281874714393), np.float64(0.0912326465137112),\n",
       "        np.float64(0.0159919688972767), np.float64(0.0206034243612881),\n",
       "        np.float64(0.0466752713413208), np.float64(0.081652134082355),\n",
       "        np.float64(1.938109111300308e-05), np.float64(0.0126888024607757),\n",
       "        np.float64(0.0028061776849342), np.float64(0.0010453306182586),\n",
       "        np.float64(0.0118831308637931), np.float64(0.0035618777464765),\n",
       "        np.float64(0.0940934381132161), np.float64(0.0435450434955281),\n",
       "        np.float64(0.0475790623004446), np.float64(0.0491659353953422),\n",
       "        np.float64(0.1011535188592612), np.float64(0.0187989575130129),\n",
       "        np.float64(0.0246768774556158), np.float64(0.0940807807937921),\n",
       "        np.float64(0.0324204502066476), np.float64(0.0157903549341613),\n",
       "        np.float64(0.0399777232315477), np.float64(0.0355491899179649),\n",
       "        np.float64(0.017580334650722)], dtype=object))"
      ]
     },
     "execution_count": 11,
     "metadata": {},
     "output_type": "execute_result"
    }
   ],
   "source": [
    "tickers, weights"
   ]
  },
  {
   "cell_type": "markdown",
   "metadata": {},
   "source": [
    "# **Apply the best portfolio weights to the Q1 2025 data**"
   ]
  },
  {
   "cell_type": "code",
   "execution_count": 17,
   "metadata": {},
   "outputs": [
    {
     "data": {
      "text/html": [
       "<div>\n",
       "<style scoped>\n",
       "    .dataframe tbody tr th:only-of-type {\n",
       "        vertical-align: middle;\n",
       "    }\n",
       "\n",
       "    .dataframe tbody tr th {\n",
       "        vertical-align: top;\n",
       "    }\n",
       "\n",
       "    .dataframe thead th {\n",
       "        text-align: right;\n",
       "    }\n",
       "</style>\n",
       "<table border=\"1\" class=\"dataframe\">\n",
       "  <thead>\n",
       "    <tr style=\"text-align: right;\">\n",
       "      <th></th>\n",
       "      <th>Date</th>\n",
       "      <th>AAPL</th>\n",
       "      <th>AMGN</th>\n",
       "      <th>AMZN</th>\n",
       "      <th>AXP</th>\n",
       "      <th>BA</th>\n",
       "      <th>CAT</th>\n",
       "      <th>CRM</th>\n",
       "      <th>CSCO</th>\n",
       "      <th>CVX</th>\n",
       "      <th>...</th>\n",
       "      <th>MSFT</th>\n",
       "      <th>NKE</th>\n",
       "      <th>NVDA</th>\n",
       "      <th>PG</th>\n",
       "      <th>SHW</th>\n",
       "      <th>TRV</th>\n",
       "      <th>UNH</th>\n",
       "      <th>V</th>\n",
       "      <th>VZ</th>\n",
       "      <th>WMT</th>\n",
       "    </tr>\n",
       "  </thead>\n",
       "  <tbody>\n",
       "    <tr>\n",
       "      <th>0</th>\n",
       "      <td>2025-01-02</td>\n",
       "      <td>243.582199</td>\n",
       "      <td>257.202057</td>\n",
       "      <td>220.220001</td>\n",
       "      <td>296.744843</td>\n",
       "      <td>171.869995</td>\n",
       "      <td>356.738220</td>\n",
       "      <td>330.141266</td>\n",
       "      <td>58.310692</td>\n",
       "      <td>145.100601</td>\n",
       "      <td>...</td>\n",
       "      <td>417.742371</td>\n",
       "      <td>73.299004</td>\n",
       "      <td>138.297272</td>\n",
       "      <td>163.952057</td>\n",
       "      <td>332.433472</td>\n",
       "      <td>239.908493</td>\n",
       "      <td>502.363068</td>\n",
       "      <td>313.871857</td>\n",
       "      <td>38.885319</td>\n",
       "      <td>89.537041</td>\n",
       "    </tr>\n",
       "    <tr>\n",
       "      <th>1</th>\n",
       "      <td>2025-01-03</td>\n",
       "      <td>243.092728</td>\n",
       "      <td>259.126526</td>\n",
       "      <td>224.190002</td>\n",
       "      <td>302.077148</td>\n",
       "      <td>169.899994</td>\n",
       "      <td>360.724365</td>\n",
       "      <td>332.377747</td>\n",
       "      <td>58.469631</td>\n",
       "      <td>146.228088</td>\n",
       "      <td>...</td>\n",
       "      <td>422.502838</td>\n",
       "      <td>72.940819</td>\n",
       "      <td>144.456711</td>\n",
       "      <td>163.112457</td>\n",
       "      <td>335.806122</td>\n",
       "      <td>241.302780</td>\n",
       "      <td>510.816956</td>\n",
       "      <td>314.381012</td>\n",
       "      <td>38.933670</td>\n",
       "      <td>90.313026</td>\n",
       "    </tr>\n",
       "    <tr>\n",
       "      <th>2</th>\n",
       "      <td>2025-01-06</td>\n",
       "      <td>244.730927</td>\n",
       "      <td>256.517578</td>\n",
       "      <td>227.610001</td>\n",
       "      <td>300.881134</td>\n",
       "      <td>170.779999</td>\n",
       "      <td>361.130890</td>\n",
       "      <td>330.011475</td>\n",
       "      <td>58.380230</td>\n",
       "      <td>145.644547</td>\n",
       "      <td>...</td>\n",
       "      <td>426.993835</td>\n",
       "      <td>71.637421</td>\n",
       "      <td>149.416245</td>\n",
       "      <td>158.637802</td>\n",
       "      <td>337.083313</td>\n",
       "      <td>240.894455</td>\n",
       "      <td>511.484070</td>\n",
       "      <td>312.514160</td>\n",
       "      <td>38.305088</td>\n",
       "      <td>90.959686</td>\n",
       "    </tr>\n",
       "    <tr>\n",
       "      <th>3</th>\n",
       "      <td>2025-01-07</td>\n",
       "      <td>241.944000</td>\n",
       "      <td>259.959778</td>\n",
       "      <td>222.110001</td>\n",
       "      <td>301.020660</td>\n",
       "      <td>172.509995</td>\n",
       "      <td>359.941010</td>\n",
       "      <td>324.420258</td>\n",
       "      <td>58.539169</td>\n",
       "      <td>147.948990</td>\n",
       "      <td>...</td>\n",
       "      <td>421.524780</td>\n",
       "      <td>71.726959</td>\n",
       "      <td>140.127106</td>\n",
       "      <td>159.329254</td>\n",
       "      <td>333.670776</td>\n",
       "      <td>240.695267</td>\n",
       "      <td>512.061646</td>\n",
       "      <td>311.146454</td>\n",
       "      <td>37.637817</td>\n",
       "      <td>90.342873</td>\n",
       "    </tr>\n",
       "    <tr>\n",
       "      <th>4</th>\n",
       "      <td>2025-01-08</td>\n",
       "      <td>242.433441</td>\n",
       "      <td>262.092529</td>\n",
       "      <td>222.130005</td>\n",
       "      <td>301.847931</td>\n",
       "      <td>171.759995</td>\n",
       "      <td>358.027283</td>\n",
       "      <td>326.387146</td>\n",
       "      <td>58.807377</td>\n",
       "      <td>148.651215</td>\n",
       "      <td>...</td>\n",
       "      <td>423.710419</td>\n",
       "      <td>70.930992</td>\n",
       "      <td>140.097122</td>\n",
       "      <td>160.119476</td>\n",
       "      <td>336.803925</td>\n",
       "      <td>241.780838</td>\n",
       "      <td>522.287964</td>\n",
       "      <td>312.074890</td>\n",
       "      <td>37.657158</td>\n",
       "      <td>91.327789</td>\n",
       "    </tr>\n",
       "  </tbody>\n",
       "</table>\n",
       "<p>5 rows × 31 columns</p>\n",
       "</div>"
      ],
      "text/plain": [
       "         Date        AAPL        AMGN        AMZN         AXP          BA  \\\n",
       "0  2025-01-02  243.582199  257.202057  220.220001  296.744843  171.869995   \n",
       "1  2025-01-03  243.092728  259.126526  224.190002  302.077148  169.899994   \n",
       "2  2025-01-06  244.730927  256.517578  227.610001  300.881134  170.779999   \n",
       "3  2025-01-07  241.944000  259.959778  222.110001  301.020660  172.509995   \n",
       "4  2025-01-08  242.433441  262.092529  222.130005  301.847931  171.759995   \n",
       "\n",
       "          CAT         CRM       CSCO         CVX  ...        MSFT        NKE  \\\n",
       "0  356.738220  330.141266  58.310692  145.100601  ...  417.742371  73.299004   \n",
       "1  360.724365  332.377747  58.469631  146.228088  ...  422.502838  72.940819   \n",
       "2  361.130890  330.011475  58.380230  145.644547  ...  426.993835  71.637421   \n",
       "3  359.941010  324.420258  58.539169  147.948990  ...  421.524780  71.726959   \n",
       "4  358.027283  326.387146  58.807377  148.651215  ...  423.710419  70.930992   \n",
       "\n",
       "         NVDA          PG         SHW         TRV         UNH           V  \\\n",
       "0  138.297272  163.952057  332.433472  239.908493  502.363068  313.871857   \n",
       "1  144.456711  163.112457  335.806122  241.302780  510.816956  314.381012   \n",
       "2  149.416245  158.637802  337.083313  240.894455  511.484070  312.514160   \n",
       "3  140.127106  159.329254  333.670776  240.695267  512.061646  311.146454   \n",
       "4  140.097122  160.119476  336.803925  241.780838  522.287964  312.074890   \n",
       "\n",
       "          VZ        WMT  \n",
       "0  38.885319  89.537041  \n",
       "1  38.933670  90.313026  \n",
       "2  38.305088  90.959686  \n",
       "3  37.637817  90.342873  \n",
       "4  37.657158  91.327789  \n",
       "\n",
       "[5 rows x 31 columns]"
      ]
     },
     "execution_count": 17,
     "metadata": {},
     "output_type": "execute_result"
    }
   ],
   "source": [
    "closing_prices = pd.read_csv('dow_jones_close_prices_jan_mar_2025.csv', sep=',')\n",
    "\n",
    "closing_prices.head()"
   ]
  },
  {
   "cell_type": "code",
   "execution_count": 15,
   "metadata": {},
   "outputs": [
    {
     "data": {
      "text/plain": [
       "(59, 26)"
      ]
     },
     "execution_count": 15,
     "metadata": {},
     "output_type": "execute_result"
    }
   ],
   "source": [
    "# Filter the closing prices columns to only include the tickers\n",
    "closing_prices_filtered = closing_prices[['Date'] + list(tickers)]\n",
    "\n",
    "closing_prices_filtered.shape"
   ]
  },
  {
   "cell_type": "code",
   "execution_count": 22,
   "metadata": {},
   "outputs": [
    {
     "data": {
      "text/plain": [
       "np.float64(-0.1823327990537905)"
      ]
     },
     "execution_count": 22,
     "metadata": {},
     "output_type": "execute_result"
    }
   ],
   "source": [
    "# Transform into a matrix of the closing prices\n",
    "closing_prices_matrix = closing_prices_filtered.iloc[:, 1:].values\n",
    "\n",
    "# Calculate the daily returns\n",
    "daily_returns = np.zeros(closing_prices_matrix.shape)\n",
    "\n",
    "for i in range(1, closing_prices_matrix.shape[0]):\n",
    "    daily_returns[i] = (closing_prices_matrix[i] - closing_prices_matrix[i-1]) / closing_prices_matrix[i-1]\n",
    "\n",
    "daily_returns = daily_returns[1:]\n",
    "\n",
    "# Calculate the weighted daily returns\n",
    "weighted_daily_returns = daily_returns.dot(weights)\n",
    "\n",
    "ann_return = weighted_daily_returns.mean() * 252\n",
    "\n",
    "ann_return"
   ]
  },
  {
   "cell_type": "code",
   "execution_count": 34,
   "metadata": {},
   "outputs": [
    {
     "data": {
      "text/plain": [
       "np.float64(0.16655735940887106)"
      ]
     },
     "execution_count": 34,
     "metadata": {},
     "output_type": "execute_result"
    }
   ],
   "source": [
    "cov = np.cov(daily_returns, rowvar=False)\n",
    "\n",
    "daily_vol = np.sqrt(weights.T @ cov @ weights)\n",
    "\n",
    "ann_vol = daily_vol * np.sqrt(252)\n",
    "\n",
    "ann_vol"
   ]
  },
  {
   "cell_type": "code",
   "execution_count": 35,
   "metadata": {},
   "outputs": [
    {
     "name": "stdout",
     "output_type": "stream",
     "text": [
      "Annualized Return: -0.1823\n",
      "Annualized Volatility: 0.1666\n",
      "Sharpe Ratio: -1.0947\n"
     ]
    }
   ],
   "source": [
    "sharpe = ann_return / ann_vol\n",
    "\n",
    "print(f\"Annualized Return: {ann_return:.4f}\")\n",
    "print(f\"Annualized Volatility: {ann_vol:.4f}\")\n",
    "print(f\"Sharpe Ratio: {sharpe:.4f}\")"
   ]
  }
 ],
 "metadata": {
  "kernelspec": {
   "display_name": "env",
   "language": "python",
   "name": "python3"
  },
  "language_info": {
   "codemirror_mode": {
    "name": "ipython",
    "version": 3
   },
   "file_extension": ".py",
   "mimetype": "text/x-python",
   "name": "python",
   "nbconvert_exporter": "python",
   "pygments_lexer": "ipython3",
   "version": "3.10.14"
  }
 },
 "nbformat": 4,
 "nbformat_minor": 2
}
